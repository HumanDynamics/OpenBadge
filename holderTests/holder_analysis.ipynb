{
 "cells": [
  {
   "cell_type": "code",
   "execution_count": 1,
   "metadata": {},
   "outputs": [],
   "source": [
    "import pandas as pd"
   ]
  },
  {
   "cell_type": "code",
   "execution_count": 2,
   "metadata": {},
   "outputs": [],
   "source": [
    "import numpy as np"
   ]
  },
  {
   "cell_type": "code",
   "execution_count": 3,
   "metadata": {},
   "outputs": [],
   "source": [
    "import matplotlib.pyplot as plt"
   ]
  },
  {
   "cell_type": "code",
   "execution_count": 4,
   "metadata": {},
   "outputs": [],
   "source": [
    "holders_anti = [\"EE:B4:AF:3F:05:80\", # Badge 262\n",
    "                \"FF:0C:74:ED:C4:CD\", # Badge 263\n",
    "                \"EC:FB:84:DE:35:4A\", # Badge 264\n",
    "                \"C5:85:B9:18:8D:C3\", # Badge 265\n",
    "                \"CB:5C:4B:7C:43:81\", # Badge 266\n",
    "                \"E1:07:CE:CE:52:BE\"] # Badge 267"
   ]
  },
  {
   "cell_type": "code",
   "execution_count": 5,
   "metadata": {},
   "outputs": [],
   "source": [
    "holders_noanti = [\"F1:4E:55:EA:ED:A4\", # Badge 210\n",
    "                  \"E8:FA:0D:3C:01:82\", # Badge 211\n",
    "                  \"C2:57:36:E6:71:6E\", # Badge 212\n",
    "                  \"D9:86:6F:AF:E8:90\", # Badge 213\n",
    "                  \"C1:96:24:5B:EB:97\", # Badge 214\n",
    "                  \"C8:2F:80:DA:26:94\"] # Badge 215"
   ]
  },
  {
   "cell_type": "markdown",
   "metadata": {},
   "source": [
    "# Open up the test logs and load into dataframes"
   ]
  },
  {
   "cell_type": "code",
   "execution_count": 72,
   "metadata": {},
   "outputs": [],
   "source": [
    "def load(filename):\n",
    "    raw = pd.read_csv(filename)\n",
    "    raw = raw.loc[(raw['RSSI']>-70)]\n",
    "\n",
    "    at = raw.loc[raw['MAC'].isin(holders_anti)]  # Antistatic Transmitters\n",
    "    nat = raw.loc[raw['MAC'].isin(holders_noanti)]  # No-Antistatic Transmitters\n",
    "    allt = pd.concat([at, nat]).sort_values(by=\"DATETIME\")  # All Transmitters (removed unwanted MACs)\n",
    "    \n",
    "    return (allt, at, nat)"
   ]
  },
  {
   "cell_type": "code",
   "execution_count": 73,
   "metadata": {},
   "outputs": [],
   "source": [
    "# Antistatic Receivers\n",
    "df_ar2, df_ar2at, df_ar2nat = load('logs_antistatic/BLE_range_test_2ft_antistatic_CSV/000.csv')\n",
    "df_ar4, df_ar4at, df_ar4nat = load('logs_antistatic/BLE_range_test_4ft_antistatic_CSV/000.csv')\n",
    "df_ar6, df_ar6at, df_ar6nat = load('logs_antistatic/BLE_range_test_6ft_antistatic_CSV/000.csv')\n",
    "df_ar8, df_ar8at, df_ar8nat = load('logs_antistatic/BLE_range_test_8ft_antistatic_CSV/000.csv')\n",
    "df_ar10, df_ar10at, df_ar10nat = load('logs_antistatic/BLE_range_test_10ft_antistatic_CSV/000.csv')"
   ]
  },
  {
   "cell_type": "code",
   "execution_count": 74,
   "metadata": {},
   "outputs": [],
   "source": [
    "# No-Antistatic Receivers\n",
    "df_nar2, df_nar2at, df_nar2nat = load('logs_noantistatic/BLE_range_test_2ft_noantistatic_CSV/000.csv')\n",
    "df_nar4, df_nar4at, df_nar4nat = load('logs_noantistatic/BLE_range_test_4ft_noantistatic_CSV/000.csv')\n",
    "df_nar6, df_nar6at, df_nar6nat = load('logs_noantistatic/BLE_range_test_6ft_noantistatic_CSV/000.csv')\n",
    "df_nar8, df_nar8at, df_nar8nat = load('logs_noantistatic/BLE_range_test_8ft_noantistatic_CSV/000.csv')\n",
    "df_nar10, df_nar10at, df_nar10nat = load('logs_noantistatic/BLE_range_test_10ft_noantistatic_CSV/000.csv')"
   ]
  },
  {
   "cell_type": "markdown",
   "metadata": {},
   "source": [
    "# make histograms with rssi vs count"
   ]
  },
  {
   "cell_type": "code",
   "execution_count": 75,
   "metadata": {},
   "outputs": [
    {
     "data": {
      "image/png": "[encoded data removed]",
      "text/plain": [
       "<matplotlib.figure.Figure at 0x7fd2ecf84d10>"
      ]
     },
     "metadata": {},
     "output_type": "display_data"
    }
   ],
   "source": [
    "plt.hist(df_ar2at[\"RSSI\"], bins = 10, alpha=0.5, label='Anti')\n",
    "plt.hist(df_ar2nat[\"RSSI\"], bins = 10, alpha=0.5, label='Reg')\n",
    "plt.legend(loc='upper left')\n",
    "plt.show()"
   ]
  },
  {
   "cell_type": "markdown",
   "metadata": {},
   "source": [
    "Regular Holder on both Transmitters / Receiver"
   ]
  },
  {
   "cell_type": "code",
   "execution_count": 102,
   "metadata": {},
   "outputs": [
    {
     "data": {
      "image/png": "[encoded data removed]",
      "text/plain": [
       "<matplotlib.figure.Figure at 0x7fd2ecf63e90>"
      ]
     },
     "metadata": {},
     "output_type": "display_data"
    }
   ],
   "source": [
    "plt.hist(df_nar2nat[\"RSSI\"], bins = 8, alpha=0.75, label='2 ft')\n",
    "plt.axvline(x=df_nar2nat.max()[\"RSSI\"], color='C0')\n",
    "plt.hist(df_nar4nat[\"RSSI\"], bins = 8, alpha=0.75, label='4 ft')\n",
    "plt.axvline(x=df_nar4nat.max()[\"RSSI\"], color='C1')\n",
    "plt.hist(df_nar6nat[\"RSSI\"], bins = 8, alpha=0.75, label='6 ft')\n",
    "plt.axvline(x=df_nar6nat.max()[\"RSSI\"], color='C2')\n",
    "plt.hist(df_nar8nat[\"RSSI\"], bins = 8, alpha=0.75, label='8 ft')\n",
    "plt.axvline(x=df_nar8nat.max()[\"RSSI\"], color='C3')\n",
    "plt.hist(df_nar10nat[\"RSSI\"], bins = 8, alpha=0.75, label='10 ft')\n",
    "plt.axvline(x=df_nar10nat.max()[\"RSSI\"], color='C4')\n",
    "plt.legend(loc='upper left')\n",
    "plt.show()"
   ]
  },
  {
   "cell_type": "markdown",
   "metadata": {},
   "source": [
    "Antistatic Holder on both Transmitters / Receiver"
   ]
  },
  {
   "cell_type": "code",
   "execution_count": 103,
   "metadata": {},
   "outputs": [
    {
     "data": {
      "image/png": "[encoded data removed]",
      "text/plain": [
       "<matplotlib.figure.Figure at 0x7fd2ece83c50>"
      ]
     },
     "metadata": {},
     "output_type": "display_data"
    }
   ],
   "source": [
    "plt.hist(df_ar2at[\"RSSI\"], bins = 8, alpha=0.75, label='2 ft')\n",
    "plt.axvline(x=df_ar2at.max()[\"RSSI\"], color='C0')\n",
    "plt.hist(df_ar4at[\"RSSI\"], bins = 8, alpha=0.75, label='4 ft')\n",
    "plt.axvline(x=df_ar4at.max()[\"RSSI\"], color='C1')\n",
    "plt.hist(df_ar6at[\"RSSI\"], bins = 8, alpha=0.75, label='6 ft')\n",
    "plt.axvline(x=df_ar6at.max()[\"RSSI\"], color='C2')\n",
    "plt.hist(df_ar8at[\"RSSI\"], bins = 8, alpha=0.75, label='8 ft')\n",
    "plt.axvline(x=df_ar8at.max()[\"RSSI\"], color='C3')\n",
    "plt.hist(df_ar10at[\"RSSI\"], bins = 8, alpha=0.75, label='10 ft')\n",
    "plt.axvline(x=df_ar10at.max()[\"RSSI\"], color='C4')\n",
    "plt.legend(loc='upper left')\n",
    "plt.show()"
   ]
  },
  {
   "cell_type": "code",
   "execution_count": null,
   "metadata": {},
   "outputs": [],
   "source": []
  },
  {
   "cell_type": "code",
   "execution_count": null,
   "metadata": {},
   "outputs": [],
   "source": []
  },
  {
   "cell_type": "code",
   "execution_count": null,
   "metadata": {},
   "outputs": [],
   "source": []
  },
  {
   "cell_type": "code",
   "execution_count": null,
   "metadata": {},
   "outputs": [],
   "source": []
  },
  {
   "cell_type": "code",
   "execution_count": null,
   "metadata": {},
   "outputs": [],
   "source": []
  },
  {
   "cell_type": "code",
   "execution_count": null,
   "metadata": {},
   "outputs": [],
   "source": []
  }
 ],
 "metadata": {
  "kernelspec": {
   "display_name": "Python 2",
   "language": "python",
   "name": "python2"
  },
  "language_info": {
   "codemirror_mode": {
    "name": "ipython",
    "version": 2
   },
   "file_extension": ".py",
   "mimetype": "text/x-python",
   "name": "python",
   "nbconvert_exporter": "python",
   "pygments_lexer": "ipython2",
   "version": "2.7.12"
  }
 },
 "nbformat": 4,
 "nbformat_minor": 2
}
