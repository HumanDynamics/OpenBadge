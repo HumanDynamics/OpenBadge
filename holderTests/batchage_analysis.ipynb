{
 "cells": [
  {
   "cell_type": "code",
   "execution_count": 1,
   "metadata": {},
   "outputs": [],
   "source": [
    "import pandas as pd\n",
    "import numpy as np\n",
    "import matplotlib.pyplot as plt"
   ]
  },
  {
   "cell_type": "code",
   "execution_count": 2,
   "metadata": {},
   "outputs": [],
   "source": [
    "holders_new = {}\n",
    "holders_old = {}"
   ]
  },
  {
   "cell_type": "code",
   "execution_count": 21,
   "metadata": {},
   "outputs": [],
   "source": [
    "# loads all of the distances' test data for both badge ages\n",
    "# @return - df_all - a PANDAS DataFrame of all the test data\n",
    "def load_all():\n",
    "    \n",
    "    # @param - dist - int indicating the distance between the receiver and transmitter during the test\n",
    "    def load_dist(dist):\n",
    "        raw = pd.read_csv('logs_oldvnew/' + str(dist) + 'ft_CSV/000.csv')\n",
    "        return raw.loc[(raw['RSSI']>-70)]              # RSSI values below about -70 are too weak to be significant\n",
    "\n",
    "    distances = [2, 3, 4, 5, 6, 8, 10]                # load all the distances' data in this test\n",
    "    df_all = pd.concat([load_dist(d) for d in distances], keys=distances, names=[\"FT\"])\n",
    "    \n",
    "    df_new = df_all.loc[df_all['MAC'].isin(holders_new)]   # filter by badge age / batch\n",
    "    df_old = df_all.loc[df_all['MAC'].isin(holders_old)]\n",
    "    return pd.concat([df_new, df_old], keys=['BATCH'])"
   ]
  },
  {
   "cell_type": "code",
   "execution_count": 22,
   "metadata": {},
   "outputs": [],
   "source": [
    "data = load_all()"
   ]
  },
  {
   "cell_type": "code",
   "execution_count": null,
   "metadata": {},
   "outputs": [],
   "source": []
  },
  {
   "cell_type": "code",
   "execution_count": null,
   "metadata": {},
   "outputs": [],
   "source": []
  }
 ],
 "metadata": {
  "kernelspec": {
   "display_name": "Python 2",
   "language": "python",
   "name": "python2"
  },
  "language_info": {
   "codemirror_mode": {
    "name": "ipython",
    "version": 2
   },
   "file_extension": ".py",
   "mimetype": "text/x-python",
   "name": "python",
   "nbconvert_exporter": "python",
   "pygments_lexer": "ipython2",
   "version": "2.7.12"
  }
 },
 "nbformat": 4,
 "nbformat_minor": 2
}
