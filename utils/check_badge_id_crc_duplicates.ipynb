{
 "cells": [
  {
   "cell_type": "code",
   "execution_count": 2,
   "metadata": {
    "collapsed": true
   },
   "outputs": [],
   "source": [
    "# This code can be used for checking duplicated ids based on badge mac IDs\n",
    "# Since badges use CRC16 to calcualte a default ID, these duplicates are possible"
   ]
  },
  {
   "cell_type": "code",
   "execution_count": 3,
   "metadata": {
    "collapsed": false
   },
   "outputs": [],
   "source": [
    "import crc16\n",
    "import collections\n",
    "import csv\n",
    "import numpy as np"
   ]
  },
  {
   "cell_type": "code",
   "execution_count": 4,
   "metadata": {
    "collapsed": false
   },
   "outputs": [
    {
     "name": "stdout",
     "output_type": "stream",
     "text": [
      "30837\n",
      "7384\n",
      "9526\n"
     ]
    }
   ],
   "source": [
    "# Initial value for CRC16-CCITT is 0xffff\n",
    "# See: https://github.com/willemwouters/NRF51/blob/master/sdk_6_1/nrf51822/Source/app_common/crc16.c \n",
    "\n",
    "def macArrayToCRC16(macArray):\n",
    "    \"\"\"\n",
    "    macArray\n",
    "    \"\"\"\n",
    "    tempArray = macArray[:]\n",
    "    tempArray.reverse()\n",
    "    key = struct.pack('%sB' % len(tempArray), *tempArray)\n",
    "    crc = crc16.crc16xmodem(key,0xFFFF)\n",
    "    return crc\n",
    "\n",
    "def macStringToCRC16(macStr):\n",
    "    # convert hex to bytes and reverse\n",
    "    macstr = macStr.replace(':', '').decode('hex')[::-1]\n",
    "    crc = crc16.crc16xmodem(macstr,0xFFFF)\n",
    "    return crc\n",
    "\n",
    "\n",
    "# basic tests\n",
    "print(macStringToCRC16('CF:56:3F:E5:36:3F')) # 30837\n",
    "print(macStringToCRC16('EF:21:18:08:F7:F6')) # 7384\n",
    "print(macStringToCRC16('D2:92:7B:01:1A:A5')) # 9526"
   ]
  },
  {
   "cell_type": "code",
   "execution_count": 5,
   "metadata": {
    "collapsed": false
   },
   "outputs": [],
   "source": [
    "macs_file = 'macs.csv'\n",
    "with open(macs_file, 'rb') as f:\n",
    "    reader = csv.reader(f)\n",
    "    badge_macs = list(x[0] for x in reader)"
   ]
  },
  {
   "cell_type": "code",
   "execution_count": 6,
   "metadata": {
    "collapsed": false
   },
   "outputs": [],
   "source": [
    "mac_and_ID = [{'mac:':x,'id':macStringToCRC16(x)} for x in badge_macs]"
   ]
  },
  {
   "cell_type": "code",
   "execution_count": 7,
   "metadata": {
    "collapsed": false
   },
   "outputs": [
    {
     "name": "stdout",
     "output_type": "stream",
     "text": [
      "139\n"
     ]
    }
   ],
   "source": [
    "ids = [d['id'] for d in mac_and_ID]\n",
    "print (len(ids))"
   ]
  },
  {
   "cell_type": "code",
   "execution_count": 8,
   "metadata": {
    "collapsed": false
   },
   "outputs": [
    {
     "name": "stdout",
     "output_type": "stream",
     "text": [
      "138\n"
     ]
    }
   ],
   "source": [
    "counter=collections.Counter(ids)\n",
    "print(len(counter))"
   ]
  },
  {
   "cell_type": "code",
   "execution_count": 9,
   "metadata": {
    "collapsed": false
   },
   "outputs": [
    {
     "name": "stdout",
     "output_type": "stream",
     "text": [
      "Duplicate: 5084\n",
      "[5084]\n"
     ]
    }
   ],
   "source": [
    "unique_ids = [x for x in counter]\n",
    "duplicate_ids = []\n",
    "for mid in unique_ids:\n",
    "    if counter[mid] > 1:\n",
    "        print(\"Duplicate: {}\".format(mid))\n",
    "        duplicate_ids.append(mid)\n",
    "print(duplicate_ids)"
   ]
  },
  {
   "cell_type": "code",
   "execution_count": 10,
   "metadata": {
    "collapsed": false
   },
   "outputs": [
    {
     "name": "stdout",
     "output_type": "stream",
     "text": [
      "{'mac:': 'E7:06:BD:09:D5:3D', 'id': 5084}\n",
      "{'mac:': 'C7:59:BE:8B:9C:E0', 'id': 5084}\n"
     ]
    }
   ],
   "source": [
    "# print duplicates\n",
    "for mid in duplicate_ids:\n",
    "    for x in  mac_and_ID:\n",
    "        if x['id'] == mid: print x\n"
   ]
  }
 ],
 "metadata": {
  "kernelspec": {
   "display_name": "Python 2",
   "language": "python",
   "name": "python2"
  },
  "language_info": {
   "codemirror_mode": {
    "name": "ipython",
    "version": 2
   },
   "file_extension": ".py",
   "mimetype": "text/x-python",
   "name": "python",
   "nbconvert_exporter": "python",
   "pygments_lexer": "ipython2",
   "version": "2.7.6"
  }
 },
 "nbformat": 4,
 "nbformat_minor": 0
}
